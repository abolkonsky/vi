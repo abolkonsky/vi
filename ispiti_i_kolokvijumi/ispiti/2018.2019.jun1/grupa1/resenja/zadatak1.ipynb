{
 "cells": [
  {
   "cell_type": "markdown",
   "metadata": {},
   "source": [
    "# Zadatak 1 - Algoritam `A*`"
   ]
  },
  {
   "cell_type": "code",
   "execution_count": 12,
   "metadata": {},
   "outputs": [],
   "source": [
    "class Graph:\n",
    "    def __init__(self, elements, target):\n",
    "        self.elements = elements\n",
    "        self.target = target\n",
    "    def __str__(self):\n",
    "        return str(self.adjacency_list)\n",
    "        \n",
    "    def get_neighbors(self, v):\n",
    "        neighbors = []\n",
    "        \n",
    "        for element in self.elements:\n",
    "            neighbor = (v + element, element)\n",
    "            neighbors.append(neighbor)\n",
    "            \n",
    "        return neighbors\n",
    "    \n",
    "    def h(self, v):\n",
    "        return abs(self.target - v)\n",
    "        \n",
    "    def astar(self, start):\n",
    "        open_list = set([start])\n",
    "        closed_list = set([])\n",
    "        \n",
    "        g = dict([])\n",
    "        g[start] = 0\n",
    "        \n",
    "        parent = dict([])\n",
    "        parent[start] = start\n",
    "        \n",
    "        while len(open_list) > 0:\n",
    "            min_distance = float('inf')\n",
    "            n = None\n",
    "            \n",
    "            for v in open_list:\n",
    "                if g[v] + self.h(v) < min_distance:\n",
    "                    min_distance = g[v] + self.h(v)\n",
    "                    n = v\n",
    "                    \n",
    "                    \n",
    "            if n == self.target:\n",
    "                path = []\n",
    "                \n",
    "                while n != parent[n]:\n",
    "                    path.append(n)\n",
    "                    n = parent[n]\n",
    "                    \n",
    "                path.append(start)\n",
    "                path.reverse()\n",
    "                \n",
    "                return path\n",
    "            \n",
    "            for (m, weight) in self.get_neighbors(n):\n",
    "                if m not in open_list and m not in closed_list:\n",
    "                    open_list.add(m)\n",
    "                    g[m] = g[n] + weight\n",
    "                    parent[m] = n\n",
    "                    \n",
    "                else:\n",
    "                    if g[n] + weight + self.h(m) < g[m] + self.h(m):\n",
    "                        g[m] = g[n] + weight\n",
    "                        parent[m] = n\n",
    "                        \n",
    "                        if m in closed_list:\n",
    "                            closed_list.remove(m)\n",
    "                            open_list.add(m)\n",
    "                            \n",
    "            open_list.remove(n)\n",
    "            closed_list.add(n)\n",
    "        \n",
    "        print('Put nije pronadjen!')\n",
    "        return None"
   ]
  },
  {
   "cell_type": "code",
   "execution_count": 39,
   "metadata": {},
   "outputs": [
    {
     "name": "stdout",
     "output_type": "stream",
     "text": [
      "1. sabirak: 2\n",
      "2. sabirak: 5\n",
      "3. sabirak: 8\n"
     ]
    }
   ],
   "source": [
    "elements = [1,2,3,5,8]\n",
    "g = Graph(elements, 15)\n",
    "path = g.astar(0)\n",
    "n = len(path)\n",
    "for i in range(1, n):\n",
    "    print('{}. sabirak: {}'.format(i, path[i] - path[i - 1]))"
   ]
  }
 ],
 "metadata": {
  "kernelspec": {
   "display_name": "Python 3",
   "language": "python",
   "name": "python3"
  },
  "language_info": {
   "codemirror_mode": {
    "name": "ipython",
    "version": 3
   },
   "file_extension": ".py",
   "mimetype": "text/x-python",
   "name": "python",
   "nbconvert_exporter": "python",
   "pygments_lexer": "ipython3",
   "version": "3.7.4"
  }
 },
 "nbformat": 4,
 "nbformat_minor": 2
}
