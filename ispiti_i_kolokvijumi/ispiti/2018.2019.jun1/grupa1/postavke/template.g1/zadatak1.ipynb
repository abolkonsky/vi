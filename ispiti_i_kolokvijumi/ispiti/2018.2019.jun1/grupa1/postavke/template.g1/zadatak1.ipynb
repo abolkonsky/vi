{
 "cells": [
  {
   "cell_type": "markdown",
   "metadata": {},
   "source": [
    "# Zadatak 1 - Algoritam `A*`"
   ]
  },
  {
   "cell_type": "code",
   "execution_count": 1,
   "metadata": {},
   "outputs": [
    {
     "ename": "IndentationError",
     "evalue": "expected an indented block (<ipython-input-1-3ff7d2a02a1d>, line 19)",
     "output_type": "error",
     "traceback": [
      "\u001b[0;36m  File \u001b[0;32m\"<ipython-input-1-3ff7d2a02a1d>\"\u001b[0;36m, line \u001b[0;32m19\u001b[0m\n\u001b[0;31m    def astar(self, start):\u001b[0m\n\u001b[0m      ^\u001b[0m\n\u001b[0;31mIndentationError\u001b[0m\u001b[0;31m:\u001b[0m expected an indented block\n"
     ]
    }
   ],
   "source": [
    "class Graph:\n",
    "    def __init__(self, elements, target):\n",
    "        self.elements = elements # Raspolozivi brojevi\n",
    "        self.target = target # Ciljni zbir\n",
    "        \n",
    "    # Funkcija vraca niz susednih stanja u obliku (w, e)\n",
    "    # gde je w susedno stanje a e duzina grane od cvora v\n",
    "    # do cvora w\n",
    "    def get_neighbors(self, v):\n",
    "        neighbors = []\n",
    "    \n",
    "        # === Studentski kod === #\n",
    "            \n",
    "        return neighbors\n",
    "    \n",
    "    def h(self, v):\n",
    "        # === Studentski kod === #\n",
    "        \n",
    "    def astar(self, start):\n",
    "        \n",
    "        # === Studentski kod === #\n",
    "        \n",
    "        while len(open_list) > 0:\n",
    "            \n",
    "                    \n",
    "            if n == self.target:\n",
    "                # === Studentski kod === #\n",
    "            \n",
    "                    \n",
    "                            \n",
    "            # === Studentski kod === #\n",
    "            closed_list.add(n)\n",
    "        \n",
    "        print('Put nije pronadjen!')\n",
    "        return None"
   ]
  },
  {
   "cell_type": "code",
   "execution_count": null,
   "metadata": {},
   "outputs": [],
   "source": [
    "elements = [1,2,3,5,8]\n",
    "g = Graph(elements, 15)\n",
    "path = g.astar(0)\n",
    "n = len(path)\n",
    "for i in range(1, n):\n",
    "    print('{}. sabirak: {}'.format(i, path[i] - path[i - 1]))"
   ]
  }
 ],
 "metadata": {
  "kernelspec": {
   "display_name": "Python 3",
   "language": "python",
   "name": "python3"
  },
  "language_info": {
   "codemirror_mode": {
    "name": "ipython",
    "version": 3
   },
   "file_extension": ".py",
   "mimetype": "text/x-python",
   "name": "python",
   "nbconvert_exporter": "python",
   "pygments_lexer": "ipython3",
   "version": "3.6.7"
  }
 },
 "nbformat": 4,
 "nbformat_minor": 2
}
