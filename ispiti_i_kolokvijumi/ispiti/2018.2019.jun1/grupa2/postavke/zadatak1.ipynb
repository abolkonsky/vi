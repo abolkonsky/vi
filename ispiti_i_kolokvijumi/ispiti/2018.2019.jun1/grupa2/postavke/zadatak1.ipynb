{
 "cells": [
  {
   "cell_type": "markdown",
   "metadata": {},
   "source": [
    "# Zadatak 1 - Algoritam `A*`"
   ]
  },
  {
   "cell_type": "code",
   "execution_count": null,
   "metadata": {},
   "outputs": [],
   "source": [
    "class Graph:\n",
    "        \n",
    "    # Funkcija pretvara listu v u tekstualni oblik\n",
    "    # [1,2,3] -> \"1,2,3\"\n",
    "    def serialize(self, v):\n",
    "        return ','.join([str(x) for x in v])\n",
    "    \n",
    "    # Funkcija pretvara v iz tekstualnog oblika u listu\n",
    "    # \"1,2,3\" -> [1,2,3]\n",
    "    def deserialize(self, v):\n",
    "        return [int(x) for x in v.split(',')]\n",
    "        \n",
    "    # Funkcija vraca niz susednih stanja u obliku (w, e)\n",
    "    # gde je w susedno stanje a e duzina grane od cvora v\n",
    "    # do cvora w\n",
    "    def get_neighbors(self, v):\n",
    "        w = self.deserialize(v)\n",
    "        neighbors = []\n",
    "        \n",
    "        # === Studentski kod ===\n",
    "    \n",
    "            neighbors.append((self.serialize(neighbor), 1))\n",
    "        return neighbors\n",
    "    \n",
    "    # Funkcija heuristicke procene udaljenosti od stanja v\n",
    "    # do ciljnog stanja\n",
    "    def h(self, v):\n",
    "        w = self.deserialize(v)\n",
    "        # === Studentski kod ===\n",
    "    \n",
    "    # Funkcija pronalazi put od start stanja do ciljnog stanja\n",
    "    # koriscenjem a* algoritma\n",
    "    def astar(self, start):\n",
    "        open_list = set([self.serialize(start)])\n",
    "        # === Studentski kod ===\n",
    "        \n",
    "        g[self.serialize(start)] = 0\n",
    "        \n",
    "        # === Studentski kod ===\n",
    "        parent[self.serialize(start)] = self.serialize(start)\n",
    "        \n",
    "        # === Studentski kod ===\n",
    "           \n",
    "            # === Studentski kod ===\n",
    "            \n",
    "                \n",
    "               # === Studentski kod ===\n",
    "                    path.append(self.deserialize(n))\n",
    "                    # === Studentski kod ===\n",
    "                    \n",
    "                path.append(start)\n",
    "                path.reverse()\n",
    "                \n",
    "                return path\n",
    "            \n",
    "            # === Studentski kod ===\n",
    "                            \n",
    "            open_list.remove(n)\n",
    "            # === Studentski kod ===\n",
    "        \n",
    "        print('Put nije pronadjen!')\n",
    "        return None"
   ]
  },
  {
   "cell_type": "code",
   "execution_count": null,
   "metadata": {},
   "outputs": [],
   "source": [
    "g = Graph()\n",
    "g.astar([14,2,8])"
   ]
  }
 ],
 "metadata": {
  "kernelspec": {
   "display_name": "Python 3",
   "language": "python",
   "name": "python3"
  },
  "language_info": {
   "codemirror_mode": {
    "name": "ipython",
    "version": 3
   },
   "file_extension": ".py",
   "mimetype": "text/x-python",
   "name": "python",
   "nbconvert_exporter": "python",
   "pygments_lexer": "ipython3",
   "version": "3.6.7"
  }
 },
 "nbformat": 4,
 "nbformat_minor": 2
}
