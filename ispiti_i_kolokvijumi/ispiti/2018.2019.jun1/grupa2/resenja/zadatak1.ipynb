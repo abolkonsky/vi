{
 "cells": [
  {
   "cell_type": "code",
   "execution_count": 79,
   "metadata": {},
   "outputs": [],
   "source": [
    "class Graph:\n",
    "    def __str__(self):\n",
    "        return str(self.adjacency_list)\n",
    "        \n",
    "    def serialize(self, v):\n",
    "        return ','.join([str(x) for x in v])\n",
    "    \n",
    "    def deserialize(self, v):\n",
    "        return [int(x) for x in v.split(',')]\n",
    "        \n",
    "    def get_neighbors(self, v):\n",
    "        w = self.deserialize(v)\n",
    "        neighbors = []\n",
    "        \n",
    "        n = len(w)\n",
    "        for i in range(n):\n",
    "            neighbor = w[:]\n",
    "            neighbor[i] = (neighbor[i] - 1 + 5) % 14 + 1\n",
    "\n",
    "            neighbors.append((self.serialize(neighbor), 1))\n",
    "        return neighbors\n",
    "    \n",
    "    def h(self, v):\n",
    "        w = self.deserialize(v)\n",
    "        n = len(w)\n",
    "        m = len(set(w))\n",
    "        return n - m\n",
    "        \n",
    "    def astar(self, start):\n",
    "        open_list = set([self.serialize(start)])\n",
    "        closed_list = set([])\n",
    "        \n",
    "        g = dict([])\n",
    "        g[self.serialize(start)] = 0\n",
    "        \n",
    "        parent = dict([])\n",
    "        parent[self.serialize(start)] = self.serialize(start)\n",
    "        \n",
    "        while len(open_list) > 0:\n",
    "            min_distance = float('inf')\n",
    "            n = None\n",
    "            \n",
    "            for v in open_list:\n",
    "                if g[v] + self.h(v) < min_distance:\n",
    "                    min_distance = g[v] + self.h(v)\n",
    "                    n = v\n",
    "                    \n",
    "                    \n",
    "            if len(set(self.deserialize(n))) == 1:\n",
    "                path = []\n",
    "                \n",
    "                while n != parent[n]:\n",
    "                    path.append(self.deserialize(n))\n",
    "                    n = parent[n]\n",
    "                    \n",
    "                path.append(start)\n",
    "                path.reverse()\n",
    "                \n",
    "                return path\n",
    "            \n",
    "            for (m, weight) in self.get_neighbors(n):\n",
    "                if m not in open_list and m not in closed_list:\n",
    "                    open_list.add(m)\n",
    "                    g[m] = g[n] + weight\n",
    "                    parent[str(m)] = n\n",
    "                    \n",
    "                else:\n",
    "                    if g[n] + weight + self.h(m) < g[m] + self.h(m):\n",
    "                        g[m] = g[n] + weight\n",
    "                        parent[m] = n\n",
    "                        \n",
    "                        if m in closed_list:\n",
    "                            closed_list.remove(m)\n",
    "                            open_list.add(m)\n",
    "                            \n",
    "            open_list.remove(n)\n",
    "            closed_list.add(n)\n",
    "        \n",
    "        print('Put nije pronadjen!')\n",
    "        return None"
   ]
  },
  {
   "cell_type": "code",
   "execution_count": 83,
   "metadata": {},
   "outputs": [
    {
     "data": {
      "text/plain": [
       "[[14, 2, 8],\n",
       " [14, 7, 8],\n",
       " [14, 12, 8],\n",
       " [14, 3, 8],\n",
       " [14, 8, 8],\n",
       " [14, 13, 8],\n",
       " [14, 4, 8],\n",
       " [14, 4, 13],\n",
       " [14, 9, 13],\n",
       " [14, 9, 4],\n",
       " [14, 9, 9],\n",
       " [14, 9, 14],\n",
       " [14, 14, 14]]"
      ]
     },
     "execution_count": 83,
     "metadata": {},
     "output_type": "execute_result"
    }
   ],
   "source": [
    "g = Graph()\n",
    "g.astar([14,2,8])"
   ]
  }
 ],
 "metadata": {
  "kernelspec": {
   "display_name": "Python 3",
   "language": "python",
   "name": "python3"
  },
  "language_info": {
   "codemirror_mode": {
    "name": "ipython",
    "version": 3
   },
   "file_extension": ".py",
   "mimetype": "text/x-python",
   "name": "python",
   "nbconvert_exporter": "python",
   "pygments_lexer": "ipython3",
   "version": "3.7.3"
  }
 },
 "nbformat": 4,
 "nbformat_minor": 2
}
