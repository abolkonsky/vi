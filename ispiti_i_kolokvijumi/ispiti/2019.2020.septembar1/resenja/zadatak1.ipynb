{
 "cells": [
  {
   "cell_type": "code",
   "execution_count": 1,
   "metadata": {},
   "outputs": [],
   "source": [
    "mapa = [[5, 20, 100, 30, 20, 14, 1, 2, 7, 1],\n",
    "        [1, 33, 14, 15, 16, 200, 33, 99, 5, 2],\n",
    "        [3, 4, 8, 9, 30, 300, 33, 44, 11, 555],\n",
    "        [8, 10, 12, 14, 33, 9, 8, 1, 1, 1],\n",
    "        [60, 3, 1, 1, 1, 1, 1, 1, 1, 1],\n",
    "        [30, 40, 50, 70, 10, 1, 2, 3, 7, 6],\n",
    "        [4, 5, 1, 80, 90, 1, 1, 10, 11, 12],\n",
    "        [33, 44, 10, 10, 1, 3, 8, 6, 7, 1],\n",
    "        [5, 5, 6, 1, 1, 4, 8, 10, 11, 5],\n",
    "        [1, 80, 3, 3, 3, 3, 12, 200, 33, 4]]"
   ]
  },
  {
   "cell_type": "code",
   "execution_count": 35,
   "metadata": {},
   "outputs": [],
   "source": [
    "from collections import deque\n",
    "import copy\n",
    "\n",
    "class Graph:\n",
    "    def __init__(self, mapa):\n",
    "        self.mapa = mapa\n",
    "        \n",
    "    def valid(self, i, j):\n",
    "        if i >= 0 and j >= 0 and i < 10 and j < 10:\n",
    "            return True\n",
    "        else:\n",
    "            return False        \n",
    "        \n",
    "    # i i j su koordinate trenutnog polozaja figure  \n",
    "    def get_neighbors(self, i, j):\n",
    "        susedi = [];\n",
    "        \n",
    "        indeksi = [(-2, -1), (-2, 1), (-1, -2), (-1, 2), (1, -2), (1, 2), (2, -1), (2, 1)]\n",
    "        for indeks in indeksi:\n",
    "            if self.valid(i+indeks[0], j+indeks[1]):\n",
    "                susedi.append((i+indeks[0], j+indeks[1]))\n",
    "            \n",
    "        return susedi\n",
    "    \n",
    "    # Heuristika\n",
    "    def h(self, i, j):\n",
    "        \n",
    "        return ((9 - i) + (9 - j))/3\n",
    "\n",
    "    # Pronalazenje najkraceg puta pomocu algoritma A*\n",
    "    def astar(self):\n",
    "\n",
    "        # Zatvorena lista je inicijalno prazna, a otvorena lista sadrzi samo polazni cvor\n",
    "        open_list = set([(0,0)])\n",
    "        closed_list = set([])\n",
    "\n",
    "        # g sadrzi tekuce udaljenosti od polaznog cvora (start) do ostalih cvorova, ukoliko se cvor ne nalazi\n",
    "        # u mapi, podrazumevana vrednost udaljenosti je beskonacno\n",
    "        g = {}\n",
    "        \n",
    "        # Udaljenost polaznog cvora od samog sebe je 0\n",
    "        g[(0,0)] = 0\n",
    "\n",
    "        # Mapa parents cuva roditelje cvorova\n",
    "        parents = {}\n",
    "        parents[(0,0)] = None\n",
    "\n",
    "        \n",
    "        # Izvrsavaj dok god ima elemenata u otvorenoj listi\n",
    "        while len(open_list) > 0:\n",
    "\n",
    "            n = None\n",
    "\n",
    "            for v in open_list:\n",
    "                if n == None or g[v] + self.h(v[0], v[1]) < g[n] +  self.h(n[0], n[1]):\n",
    "                    n = v;\n",
    "\n",
    "            if n == None:\n",
    "                print('Trazeni put ne postoji')\n",
    "                return None\n",
    "\n",
    "            # Ako je n ciljni cvor, izvesti o uspehu i vrati resenje konstruisuci put\n",
    "            # od polaznog do ciljnog cvora (iduci unazad — od ciljnog cvora).\n",
    "            if n == (9, 9):\n",
    "                path = []\n",
    "                suma = 0\n",
    "\n",
    "                # do-while petlja ne postoji u Python-u\n",
    "                while parents[n] != None:\n",
    "                    path.append(n)\n",
    "                    n = parents[n]\n",
    "                    suma += mapa[n[0]][n[1]]\n",
    "\n",
    "\n",
    "                path.reverse()\n",
    "                \n",
    "                print('Pronadjen je put: {}'.format(path))\n",
    "                print('Minimalna cena: ', suma)\n",
    "                return path\n",
    "\n",
    "            # Za svaki cvor m koji je direktno dostupan uradi sledece:\n",
    "            for m in self.get_neighbors(n[0], n[1]):\n",
    "\n",
    "                # Ako m nije ni u otvorenoj ni u zatvorenoj listi, dodaj ga u otvorenu listu\n",
    "                # i oznaci n kao njegovog roditelja.\n",
    "                if m not in open_list and m not in closed_list:\n",
    "                    open_list.add(m)\n",
    "                    parents[m] = n\n",
    "                    g[m] = g[n] + mapa[m[0]][m[1]]\n",
    "\n",
    "                # Inace, proveri da li je put od polaznog cvora do cvora m preko\n",
    "                # cvora n bolji (kraci ili jeftiniji) od postojeceg puta do m\n",
    "                # (trenutna vrednost g(m)). Ako jeste, promeni informaciju o roditelju\n",
    "                # cvora m na cvor n i azuriraj vrednosti g(m), a ako je\n",
    "                # m bio u zatvorenoj listi, prebaci ga u otvorenu.\n",
    "                else:\n",
    "                    if g[m] > g[n] + mapa[m[0]][m[1]]:\n",
    "                        g[m] = g[n] + mapa[m[0]][m[1]]\n",
    "                        parents[m] = n\n",
    "\n",
    "                        if m in closed_list:\n",
    "                            closed_list.remove(m)\n",
    "                            open_list.add(m)\n",
    "\n",
    "            # Izbaci n iz otvorene liste i dodaj ga u zatvorenu listu\n",
    "            open_list.remove(n)\n",
    "            closed_list.add(n)\n",
    "\n",
    "        #  Obavesti da trazeni put ne postoji (otvorena lista je prazna i uspeh nije prijavljen).\n",
    "        print('Trazeni put ne postoji')\n",
    "        return None"
   ]
  },
  {
   "cell_type": "code",
   "execution_count": 36,
   "metadata": {},
   "outputs": [],
   "source": [
    "g = Graph(mapa)"
   ]
  },
  {
   "cell_type": "code",
   "execution_count": 37,
   "metadata": {},
   "outputs": [
    {
     "name": "stdout",
     "output_type": "stream",
     "text": [
      "Pronadjen je put: [(2, 1), (4, 2), (5, 4), (6, 6), (7, 8), (9, 9)]\n",
      "Minimalna cena:  28\n"
     ]
    },
    {
     "data": {
      "text/plain": [
       "[(2, 1), (4, 2), (5, 4), (6, 6), (7, 8), (9, 9)]"
      ]
     },
     "execution_count": 37,
     "metadata": {},
     "output_type": "execute_result"
    }
   ],
   "source": [
    "g.astar()"
   ]
  }
 ],
 "metadata": {
  "kernelspec": {
   "display_name": "Python 3",
   "language": "python",
   "name": "python3"
  },
  "language_info": {
   "codemirror_mode": {
    "name": "ipython",
    "version": 3
   },
   "file_extension": ".py",
   "mimetype": "text/x-python",
   "name": "python",
   "nbconvert_exporter": "python",
   "pygments_lexer": "ipython3",
   "version": "3.7.7"
  }
 },
 "nbformat": 4,
 "nbformat_minor": 4
}
