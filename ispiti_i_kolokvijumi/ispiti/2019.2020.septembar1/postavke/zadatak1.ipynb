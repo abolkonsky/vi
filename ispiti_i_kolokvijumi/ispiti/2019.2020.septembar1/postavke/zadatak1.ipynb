{
 "cells": [
  {
   "cell_type": "code",
   "execution_count": 1,
   "metadata": {},
   "outputs": [],
   "source": [
    "mapa = [[5, 20, 100, 30, 20, 14, 1, 2, 7, 1],\n",
    "        [1, 33, 14, 15, 16, 200, 33, 99, 5, 2],\n",
    "        [3, 4, 8, 9, 30, 300, 33, 44, 11, 555],\n",
    "        [8, 10, 12, 14, 33, 9, 8, 1, 1, 1],\n",
    "        [60, 3, 1, 1, 1, 1, 1, 1, 1, 1],\n",
    "        [30, 40, 50, 70, 10, 1, 2, 3, 7, 6],\n",
    "        [4, 5, 1, 80, 90, 1, 1, 10, 11, 12],\n",
    "        [33, 44, 10, 10, 1, 3, 8, 6, 7, 1],\n",
    "        [5, 5, 6, 1, 1, 4, 8, 10, 11, 5],\n",
    "        [1, 80, 3, 3, 3, 3, 12, 200, 33, 4]]"
   ]
  },
  {
   "cell_type": "code",
   "execution_count": null,
   "metadata": {},
   "outputs": [],
   "source": [
    "from collections import deque\n",
    "import copy\n",
    "\n",
    "class Graph:\n",
    "    def __init__(self, mapa):\n",
    "        self.mapa = mapa\n",
    "        \n",
    "    def valid(self, i, j):\n",
    "        if i >= 0 and j >= 0 and i < 10 and j < 10:\n",
    "            return True\n",
    "        else:\n",
    "            return False        \n",
    "        \n",
    "    # i i j su koordinate trenutnog polozaja figure na mapi\n",
    "    # Funkcija vraca sve gde figura moze da skoci\n",
    "    def get_neighbors(self, i, j):\n",
    "        susedi = [];\n",
    "        \n",
    "        indeksi = [(-2, -1), (-2, 1), (-1, -2), (-1, 2), (1, -2), (1, 2), (2, -1), (2, 1)]\n",
    "        for indeks in indeksi:\n",
    "            if self.valid(i+indeks[0], j+indeks[1]):\n",
    "                susedi.append((i+indeks[0], j+indeks[1]))\n",
    "            \n",
    "        return susedi\n",
    "    \n",
    "    # Heuristika\n",
    "    def h(self, i, j):\n",
    "        \n",
    "        #----------------------------------------------------\n",
    "        #STUDENTSKI KOD\n",
    "        #----------------------------------------------------\n",
    "\n",
    "    # Pronalazenje najkraceg puta pomocu algoritma A*\n",
    "    def astar(self):\n",
    "\n",
    "        # Zatvorena lista je inicijalno prazna, a otvorena lista sadrzi samo polazni cvor \n",
    "        # Kako figura krece sa pozicije 0,0 polazni cvor je (0, 0)\n",
    "        open_list = set([(0,0)])\n",
    "        closed_list = set([])\n",
    "\n",
    "        # g sadrzi tekuce udaljenosti od polaznog cvora (start) do ostalih cvorova, ukoliko se cvor ne nalazi\n",
    "        # u mapi, podrazumevana vrednost udaljenosti je beskonacno\n",
    "        g = {}\n",
    "        \n",
    "\n",
    "        # Mapa parents cuva roditelje cvorova\n",
    "        parents = {}\n",
    "\n",
    "        \n",
    "         #----------------------------------------------------\n",
    "        #STUDENTSKI KOD\n",
    "        #----------------------------------------------------"
   ]
  }
 ],
 "metadata": {
  "kernelspec": {
   "display_name": "Python 3",
   "language": "python",
   "name": "python3"
  },
  "language_info": {
   "codemirror_mode": {
    "name": "ipython",
    "version": 3
   },
   "file_extension": ".py",
   "mimetype": "text/x-python",
   "name": "python",
   "nbconvert_exporter": "python",
   "pygments_lexer": "ipython3",
   "version": "3.7.7"
  }
 },
 "nbformat": 4,
 "nbformat_minor": 4
}
