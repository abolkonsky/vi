{
 "cells": [
  {
   "cell_type": "code",
   "execution_count": 21,
   "metadata": {},
   "outputs": [],
   "source": [
    "class Graph:\n",
    "    def __init__(self, fragments):\n",
    "        # Svi DNK fragment\n",
    "        self.fragments = fragments\n",
    "        \n",
    "        # Ukupan broj fragmenata\n",
    "        self.num_fragments = len(fragments)\n",
    "        \n",
    "    def __str__(self):\n",
    "        return str(self.adjacency_list)\n",
    "    \n",
    "    # Funkcija pronalazi sve susedne fragmente\n",
    "    # tekuceg fragmenta\n",
    "    def get_neighbors(self, fragment):\n",
    "        neighbors = []\n",
    "        \n",
    "        # === Studentski kod ===#\n",
    "        \n",
    "                neighbors.append((neighbor,1))\n",
    "        return neighbors\n",
    "                \n",
    "        \n",
    "    # Funkcija pokusava da sa svakim fragmentom\n",
    "    # pocne sekvencu a redosled ostalih sekvenci,\n",
    "    # ako takav postoji, pronalazi koriscenjem \n",
    "    # DFS pretrage.\n",
    "    def solve(self):\n",
    "        for fragment in self.fragments:\n",
    "            path = self.dfs(fragment)\n",
    "            if path != None:\n",
    "                return path\n",
    "            \n",
    "    # Funkcija vrsi DFS pretragu pocevsi od odabranog\n",
    "    # start fragmenta i trazi put koji obuhvata sve\n",
    "    # fragmente iz zadatog niza fragmenata\n",
    "    def dfs(self, start):\n",
    "        \n",
    "        while len(path) > 0:\n",
    "        # === Studentski kod ===#\n",
    "            if len(visited) == self.num_fragments:\n",
    "                return path\n",
    "            \n",
    "       # === Studentski kod ===#\n",
    "        \n",
    "        return None"
   ]
  },
  {
   "cell_type": "code",
   "execution_count": null,
   "metadata": {},
   "outputs": [],
   "source": [
    "fragments = ['CATG','TCGA', 'ACGG', 'GCGG', 'GATC']\n",
    "g = Graph(fragments)\n",
    "path = g.solve()\n",
    "\n",
    "n = g.num_fragments\n",
    "sequence = path[0]\n",
    "for i in range(1,n):\n",
    "    sequence += path[i][1:]\n",
    "    \n",
    "print('Redosled fragmenata: {}'.format(path))\n",
    "print('Kompletna sekvenca: {}'.format(sequence))"
   ]
  }
 ],
 "metadata": {
  "kernelspec": {
   "display_name": "Python 3",
   "language": "python",
   "name": "python3"
  },
  "language_info": {
   "codemirror_mode": {
    "name": "ipython",
    "version": 3
   },
   "file_extension": ".py",
   "mimetype": "text/x-python",
   "name": "python",
   "nbconvert_exporter": "python",
   "pygments_lexer": "ipython3",
   "version": "3.7.4"
  }
 },
 "nbformat": 4,
 "nbformat_minor": 2
}
