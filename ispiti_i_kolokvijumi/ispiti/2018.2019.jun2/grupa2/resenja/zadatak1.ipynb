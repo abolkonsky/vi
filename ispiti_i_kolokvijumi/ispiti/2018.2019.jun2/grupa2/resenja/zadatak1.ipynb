{
 "cells": [
  {
   "cell_type": "code",
   "execution_count": 21,
   "metadata": {},
   "outputs": [],
   "source": [
    "class Graph:\n",
    "    def __init__(self, fragments):\n",
    "        self.fragments = fragments\n",
    "        self.num_fragments = len(fragments)\n",
    "        \n",
    "    def __str__(self):\n",
    "        return str(self.adjacency_list)\n",
    "    \n",
    "    # Funkcija pronalazi sve susedne fragmente\n",
    "    # tekuceg fragmenta\n",
    "    def get_neighbors(self, fragment):\n",
    "        neighbors = []\n",
    "        for w in self.fragments:\n",
    "            if w[0] == fragment[-1]:\n",
    "                neighbors.append((w,1))\n",
    "        return neighbors\n",
    "                \n",
    "        \n",
    "    # Funkcija pokusava da sa svakim fragmentom\n",
    "    # pocne sekvencu a redosled ostalih sekvenci,\n",
    "    # ako takav postoji, pronalazi koriscenjem \n",
    "    # DFS pretrage.\n",
    "    def solve(self):\n",
    "        for fragment in self.fragments:\n",
    "            path = self.dfs(fragment)\n",
    "            if path != None:\n",
    "                return path\n",
    "            \n",
    "        \n",
    "    def dfs(self, start):\n",
    "        visited = {start}\n",
    "        path = [start]\n",
    "        \n",
    "        while len(path) > 0:\n",
    "            n = path[-1]\n",
    "\n",
    "            if len(visited) == self.num_fragments:\n",
    "                return path\n",
    "            \n",
    "            has_unvisited = False\n",
    "            \n",
    "            for (m, weight) in self.get_neighbors(n):\n",
    "                if m not in visited:\n",
    "                    visited.add(m)\n",
    "                    path.append(m)\n",
    "                    has_unvisited = True\n",
    "                    break\n",
    "                    \n",
    "            if not has_unvisited:\n",
    "                path.pop()\n",
    "        \n",
    "        return None"
   ]
  },
  {
   "cell_type": "code",
   "execution_count": 24,
   "metadata": {},
   "outputs": [
    {
     "name": "stdout",
     "output_type": "stream",
     "text": [
      "Redosled fragmenata: ['TCGA', 'ACGG', 'GCGG', 'GATC', 'CATG']\n",
      "Kompletna sekvenca: TCGACGGCGGATCATG\n"
     ]
    }
   ],
   "source": [
    "fragments = ['CATG','TCGA', 'ACGG', 'GCGG', 'GATC']\n",
    "g = Graph(fragments)\n",
    "path = g.solve()\n",
    "\n",
    "n = len(path)\n",
    "sequence = path[0]\n",
    "for i in range(1,n):\n",
    "    sequence += path[i][1:]\n",
    "    \n",
    "print('Redosled fragmenata: {}'.format(path))\n",
    "print('Kompletna sekvenca: {}'.format(sequence))"
   ]
  }
 ],
 "metadata": {
  "kernelspec": {
   "display_name": "Python 3",
   "language": "python",
   "name": "python3"
  },
  "language_info": {
   "codemirror_mode": {
    "name": "ipython",
    "version": 3
   },
   "file_extension": ".py",
   "mimetype": "text/x-python",
   "name": "python",
   "nbconvert_exporter": "python",
   "pygments_lexer": "ipython3",
   "version": "3.7.3"
  }
 },
 "nbformat": 4,
 "nbformat_minor": 2
}
