{
 "cells": [
  {
   "cell_type": "code",
   "execution_count": null,
   "metadata": {},
   "outputs": [],
   "source": [
    "from collections import deque\n",
    "\n",
    "class Graph:\n",
    "    # Funkcija vraca listu susednih stanja tekuceg stanja\n",
    "    def get_neighbors(self, v):\n",
    "        neighbors = []\n",
    "       # === STUDENTSKI KOD === #\n",
    "    \n",
    "            neighbors.append((neighbor, 1))\n",
    "        return neighbors\n",
    "    \n",
    "    # Funkcija pronalazi put od stanja start do stanja stop\n",
    "    # koriscenjem BFS pretrage\n",
    "    def bfs(self, start, stop):\n",
    "        # === STUDENTSKI KOD === #\n",
    "        \n",
    "        parent = {}\n",
    "        # Kastovanjem u str se vrsi serijalizacija\n",
    "        parent[str(start)] = start\n",
    "        \n",
    "        while len(S) > 0:\n",
    "        # === STUDENTSKI KOD === #\n",
    "        \n",
    "                if str(m) not in parent:\n",
    "                    # === STUDENTSKI KOD === #\n",
    "        \n",
    "        print('Trazeni put nije pronadjen')\n",
    "        return None"
   ]
  },
  {
   "cell_type": "code",
   "execution_count": null,
   "metadata": {
    "scrolled": true
   },
   "outputs": [],
   "source": [
    "g = Graph()\n",
    "\n",
    "start = ['H', 'D', 'F', 'G', 'A', 'E', 'B', 'C']\n",
    "stop = ['A', 'B', 'C', 'D', 'E', 'F', 'G', 'H']\n",
    "\n",
    "path = g.bfs(start, stop)\n",
    "\n",
    "for state in path:\n",
    "    print(state)\n",
    "\n",
    "print()\n",
    "print('Tajna poruka je: {}'.format(secret))"
   ]
  },
  {
   "cell_type": "code",
   "execution_count": 3,
   "metadata": {},
   "outputs": [
    {
     "name": "stdout",
     "output_type": "stream",
     "text": [
      "[1, 2, 3, 4, 5]\n",
      "[5, 4, 3, 2, 1]\n",
      "[]\n",
      "[5, 4]\n"
     ]
    }
   ],
   "source": [
    "lista = [1,2,3,4,5]\n",
    "print(lista)\n",
    "print(lista[::-1])\n",
    "print(lista[2:4:-1])\n",
    "print(lista[4:2:-1])"
   ]
  }
 ],
 "metadata": {
  "kernelspec": {
   "display_name": "Python 3",
   "language": "python",
   "name": "python3"
  },
  "language_info": {
   "codemirror_mode": {
    "name": "ipython",
    "version": 3
   },
   "file_extension": ".py",
   "mimetype": "text/x-python",
   "name": "python",
   "nbconvert_exporter": "python",
   "pygments_lexer": "ipython3",
   "version": "3.6.7"
  }
 },
 "nbformat": 4,
 "nbformat_minor": 2
}
