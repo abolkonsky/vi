{
 "cells": [
  {
   "cell_type": "code",
   "execution_count": 1,
   "metadata": {},
   "outputs": [],
   "source": [
    "from sklearn.neighbors import KNeighborsClassifier\n",
    "from sklearn.metrics import classification_report, confusion_matrix, accuracy_score, precision_score, f1_score, recall_score\n",
    "from sklearn.model_selection import train_test_split\n",
    "from sklearn.datasets import load_wine\n",
    "import numpy as np\n",
    "import pandas as pd\n",
    "from matplotlib import pyplot as plt"
   ]
  },
  {
   "cell_type": "code",
   "execution_count": 2,
   "metadata": {},
   "outputs": [],
   "source": [
    "data = load_wine()\n",
    "X = data.data\n",
    "y = data.target"
   ]
  },
  {
   "cell_type": "markdown",
   "metadata": {},
   "source": [
    "a) Koliko atributa imaju učitani podaci? Koliko instanci imaju učitani podaci? Koliko različitih klasa postoji?"
   ]
  },
  {
   "cell_type": "code",
   "execution_count": 3,
   "metadata": {},
   "outputs": [
    {
     "name": "stdout",
     "output_type": "stream",
     "text": [
      "Broj atributa: 13\n",
      "Broj instanci: 178\n",
      "Broj razlicitih klasa: 3\n"
     ]
    }
   ],
   "source": [
    "print(f'Broj atributa: {X.shape[1]}\\nBroj instanci: {X.shape[0]}')\n",
    "print(f'Broj razlicitih klasa: {np.unique(y).shape[0]}')"
   ]
  },
  {
   "cell_type": "markdown",
   "metadata": {},
   "source": [
    "b) Podeliti podatke na skup za obučavanje i testiranje u razmeri 1:3. Za `random_state` parametar postaviti vrednost 7."
   ]
  },
  {
   "cell_type": "code",
   "execution_count": 4,
   "metadata": {},
   "outputs": [],
   "source": [
    "X_train, X_test, y_train, y_test = train_test_split(X, y, test_size=0.25, random_state=7)"
   ]
  },
  {
   "cell_type": "markdown",
   "metadata": {},
   "source": [
    "c) Napraviti niz `Ks` koji sadrži prirodne brojeve iz intervala $[1, 50]$. Pronaći model K najbližih suseda koji za parametar $k$ (broj suseda)\n",
    "iz ovog intervala ima najveću tačnost (accuracy) na podacima za testiranje nakon što se model obuči na podacima za obučavanje.\n",
    "Ispisati za koje $k$ je tačnost maksimalna i koja je njena vrednost."
   ]
  },
  {
   "cell_type": "code",
   "execution_count": 5,
   "metadata": {},
   "outputs": [],
   "source": [
    "Ks = [k for k in range(1, 51)]"
   ]
  },
  {
   "cell_type": "code",
   "execution_count": 6,
   "metadata": {},
   "outputs": [],
   "source": [
    "max_acc = -1\n",
    "best_k = -1\n",
    "accs = []\n",
    "\n",
    "for k in Ks:\n",
    "    clf = KNeighborsClassifier(n_neighbors=k)\n",
    "    clf.fit(X_train, y_train)\n",
    "    acc = clf.score(X_test, y_test)\n",
    "    accs.append(acc)\n",
    "    if acc > max_acc:\n",
    "        max_acc = acc\n",
    "        best_k = k"
   ]
  },
  {
   "cell_type": "markdown",
   "metadata": {},
   "source": [
    "d) Nacrtati grafik koji prikazuje kako se menja tačnost klasifikatora na test podacima u zavisnosti od promene parametra $k$.\n",
    "Na $x$ obeležiti `k`, a $y$ osu obeležiti sa `tacnost (accuracy)`."
   ]
  },
  {
   "cell_type": "code",
   "execution_count": 7,
   "metadata": {},
   "outputs": [
    {
     "data": {
      "text/plain": [
       "Text(0, 0.5, 'Tacnost (accuracy)')"
      ]
     },
     "execution_count": 7,
     "metadata": {},
     "output_type": "execute_result"
    },
    {
     "data": {
      "image/png": "[encoded data removed]",
      "text/plain": [
       "<Figure size 432x288 with 1 Axes>"
      ]
     },
     "metadata": {
      "needs_background": "light"
     },
     "output_type": "display_data"
    }
   ],
   "source": [
    "plt.plot(Ks, accs)\n",
    "plt.xlabel('k')\n",
    "plt.ylabel('Tacnost (accuracy)')"
   ]
  },
  {
   "cell_type": "markdown",
   "metadata": {},
   "source": [
    "e) Prikazati klasifikacioni izveštaj (prikazati mere preciznost, odziv, tačnost, f1 mera)\n",
    "i za skup za obučavanje, i za skup za testiranje za najbolji pronađeni model."
   ]
  },
  {
   "cell_type": "code",
   "execution_count": 8,
   "metadata": {},
   "outputs": [
    {
     "name": "stdout",
     "output_type": "stream",
     "text": [
      "Najveca tacnost: 0.7333333333333333 za k=32\n"
     ]
    }
   ],
   "source": [
    "print(f'Najveca tacnost: {max_acc} za k={best_k}')"
   ]
  },
  {
   "cell_type": "code",
   "execution_count": 9,
   "metadata": {},
   "outputs": [],
   "source": [
    "clf = KNeighborsClassifier(best_k).fit(X_train, y_train)"
   ]
  },
  {
   "cell_type": "code",
   "execution_count": 10,
   "metadata": {},
   "outputs": [],
   "source": [
    "y_train_pred = clf.predict(X_train)\n",
    "y_test_pred = clf.predict(X_test)"
   ]
  },
  {
   "cell_type": "code",
   "execution_count": 11,
   "metadata": {},
   "outputs": [
    {
     "name": "stdout",
     "output_type": "stream",
     "text": [
      "              precision    recall  f1-score   support\n",
      "\n",
      "           0       0.88      0.88      0.88        50\n",
      "           1       0.66      0.83      0.74        52\n",
      "           2       0.28      0.16      0.20        31\n",
      "\n",
      "    accuracy                           0.69       133\n",
      "   macro avg       0.61      0.62      0.61       133\n",
      "weighted avg       0.65      0.69      0.67       133\n",
      "\n"
     ]
    }
   ],
   "source": [
    "print(classification_report(y_train, y_train_pred))"
   ]
  },
  {
   "cell_type": "code",
   "execution_count": 12,
   "metadata": {},
   "outputs": [
    {
     "name": "stdout",
     "output_type": "stream",
     "text": [
      "              precision    recall  f1-score   support\n",
      "\n",
      "           0       0.75      1.00      0.86         9\n",
      "           1       0.68      0.79      0.73        19\n",
      "           2       0.82      0.53      0.64        17\n",
      "\n",
      "    accuracy                           0.73        45\n",
      "   macro avg       0.75      0.77      0.74        45\n",
      "weighted avg       0.75      0.73      0.72        45\n",
      "\n"
     ]
    }
   ],
   "source": [
    "print(classification_report(y_test, y_test_pred))"
   ]
  },
  {
   "cell_type": "code",
   "execution_count": 13,
   "metadata": {},
   "outputs": [
    {
     "data": {
      "text/plain": [
       "0.6917293233082706"
      ]
     },
     "execution_count": 13,
     "metadata": {},
     "output_type": "execute_result"
    }
   ],
   "source": [
    "clf.score(X_train, y_train)"
   ]
  },
  {
   "cell_type": "code",
   "execution_count": 14,
   "metadata": {},
   "outputs": [
    {
     "data": {
      "text/plain": [
       "0.7333333333333333"
      ]
     },
     "execution_count": 14,
     "metadata": {},
     "output_type": "execute_result"
    }
   ],
   "source": [
    "clf.score(X_test, y_test)"
   ]
  }
 ],
 "metadata": {
  "kernelspec": {
   "display_name": "Python 3",
   "language": "python",
   "name": "python3"
  },
  "language_info": {
   "codemirror_mode": {
    "name": "ipython",
    "version": 3
   },
   "file_extension": ".py",
   "mimetype": "text/x-python",
   "name": "python",
   "nbconvert_exporter": "python",
   "pygments_lexer": "ipython3",
   "version": "3.7.3"
  }
 },
 "nbformat": 4,
 "nbformat_minor": 2
}
