{
 "cells": [
  {
   "cell_type": "code",
   "execution_count": 137,
   "metadata": {},
   "outputs": [],
   "source": [
    "from collections import deque\n",
    "\n",
    "class Graph:\n",
    "    def get_neighbors(self, v):\n",
    "        n = len(v)\n",
    "        neighbors = []\n",
    "        for i in range(n - 1):\n",
    "            for j in range(i, n + 1):\n",
    "                left = v[:i]\n",
    "                middle = v[i:j]\n",
    "                right = v[j:]\n",
    "                neighbor = left + middle[::-1] + right\n",
    "                neighbors.append((neighbor, 1))\n",
    "        return neighbors\n",
    "    \n",
    "    def bfs(self, start, stop):\n",
    "        S = deque([start])\n",
    "        \n",
    "        parent = {}\n",
    "        parent[str(start)] = start\n",
    "        \n",
    "        while len(S) > 0:\n",
    "            n = S.popleft()\n",
    "            \n",
    "            if n == stop:\n",
    "                path = []\n",
    "                \n",
    "                while n != parent[str(n)]:\n",
    "                    path.append(n)\n",
    "                    n = parent[str(n)]\n",
    "                    \n",
    "                path.append(start)\n",
    "                path.reverse()\n",
    "                return path\n",
    "            \n",
    "            for (m, weight) in self.get_neighbors(n):\n",
    "                if str(m) not in parent:\n",
    "                    parent[str(m)] = n\n",
    "                    S.append(m)\n",
    "        \n",
    "        print('Trazeni put nije pronadjen')\n",
    "        return None"
   ]
  },
  {
   "cell_type": "code",
   "execution_count": 136,
   "metadata": {
    "scrolled": true
   },
   "outputs": [
    {
     "name": "stdout",
     "output_type": "stream",
     "text": [
      "['H', 'D', 'F', 'G', 'A', 'E', 'B', 'C']\n",
      "['H', 'D', 'A', 'G', 'F', 'E', 'B', 'C']\n",
      "['A', 'D', 'H', 'G', 'F', 'E', 'B', 'C']\n",
      "['A', 'D', 'C', 'B', 'E', 'F', 'G', 'H']\n",
      "['A', 'B', 'C', 'D', 'E', 'F', 'G', 'H']\n",
      "\n",
      "Tajna poruka je: 3\n"
     ]
    }
   ],
   "source": [
    "g = Graph()\n",
    "\n",
    "path = g.bfs(['H', 'D', 'F', 'G', 'A', 'E', 'B', 'C'], ['A', 'B', 'C', 'D', 'E', 'F', 'G', 'H'])\n",
    "\n",
    "for state in path:\n",
    "    print(state)\n",
    "\n",
    "print()\n",
    "print('Tajna poruka je: {}'.format(len(path) - 2))"
   ]
  },
  {
   "cell_type": "code",
   "execution_count": 89,
   "metadata": {},
   "outputs": [
    {
     "name": "stdout",
     "output_type": "stream",
     "text": [
      "[1, 2, 3, 4, 5]\n",
      "[5, 4, 3, 2, 1]\n",
      "[]\n",
      "[5, 4]\n"
     ]
    }
   ],
   "source": [
    "lista = [1,2,3,4,5]\n",
    "print(lista)\n",
    "print(lista[::-1])\n",
    "print(lista[2:4:-1])\n",
    "print(lista[4:2:-1])"
   ]
  }
 ],
 "metadata": {
  "kernelspec": {
   "display_name": "Python 3",
   "language": "python",
   "name": "python3"
  },
  "language_info": {
   "codemirror_mode": {
    "name": "ipython",
    "version": 3
   },
   "file_extension": ".py",
   "mimetype": "text/x-python",
   "name": "python",
   "nbconvert_exporter": "python",
   "pygments_lexer": "ipython3",
   "version": "3.6.7"
  }
 },
 "nbformat": 4,
 "nbformat_minor": 2
}
